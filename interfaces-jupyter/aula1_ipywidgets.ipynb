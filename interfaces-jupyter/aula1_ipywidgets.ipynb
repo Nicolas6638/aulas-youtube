{
 "cells": [
  {
   "cell_type": "markdown",
   "metadata": {},
   "source": [
    "<center><img src=\"https://synapsedatascience.com.br/wp-content/uploads/2020/12/logo-jupyter.png\" width=\"300\"/></center>"
   ]
  },
  {
   "cell_type": "markdown",
   "metadata": {},
   "source": [
    "# Roteiro\n",
    "\n",
    "1. Instalando a biblioteca ipywidgets\n",
    "2. Utilizando widgets\n",
    "3. Definindo diferentes tipos de widgets\n",
    "4. Combinando widgets\n",
    "5. Disparando eventos\n",
    "6. Construindo uma interface interativa\n",
    "7. Praticando com dataset"
   ]
  },
  {
   "cell_type": "markdown",
   "metadata": {},
   "source": [
    "# Motivação\n",
    "\n",
    "- Prototipagem de projetos\n",
    "- Integração com jupyter notebook\n",
    "- Parâmetros de estilos parecidos com o CSS"
   ]
  },
  {
   "cell_type": "markdown",
   "metadata": {},
   "source": [
    "# 1. Instalando a biblioteca ipywidgets"
   ]
  },
  {
   "cell_type": "markdown",
   "metadata": {},
   "source": [
    "Widgets são objetos python que lidam com eventos e podem ser mostrados no navegador. Você pode utilizar widgets para construir interfaces gráficas interativas para os seus notebooks.\n",
    "\n",
    "Você também pode usar widgets para sincronizar informações com e sem estado entre Python e JavaScript."
   ]
  },
  {
   "cell_type": "markdown",
   "metadata": {},
   "source": [
    "## Utilizando pip"
   ]
  },
  {
   "cell_type": "markdown",
   "metadata": {},
   "source": [
    "!pip install ipywidgets  \n",
    "!jupyter nbextension enable --py widgetsnbextension"
   ]
  },
  {
   "cell_type": "markdown",
   "metadata": {},
   "source": [
    "## Utilizando conda"
   ]
  },
  {
   "cell_type": "markdown",
   "metadata": {},
   "source": [
    "!conda install -c conda-forge ipywidgets -y"
   ]
  },
  {
   "cell_type": "markdown",
   "metadata": {},
   "source": [
    "**`Dica:`** documentação da biblioteca *ipywidgets*: https://ipywidgets.readthedocs.io/en/latest/index.html"
   ]
  },
  {
   "cell_type": "markdown",
   "metadata": {},
   "source": [
    "# 2. Utilizando widgets"
   ]
  },
  {
   "cell_type": "code",
   "execution_count": 2,
   "metadata": {},
   "outputs": [],
   "source": [
    "# importando a biblioteca ipywidgets\n",
    "import ipywidgets as widgets"
   ]
  },
  {
   "cell_type": "markdown",
   "metadata": {},
   "source": [
    "Os widgets podem ser exibidos diretamente no jupyter."
   ]
  },
  {
   "cell_type": "code",
   "execution_count": 3,
   "metadata": {},
   "outputs": [
    {
     "data": {
      "application/vnd.jupyter.widget-view+json": {
       "model_id": "968e8495395a4d33832c8de2b6e25aa9",
       "version_major": 2,
       "version_minor": 0
      },
      "text/plain": [
       "IntSlider(value=0)"
      ]
     },
     "metadata": {},
     "output_type": "display_data"
    }
   ],
   "source": [
    "widgets.IntSlider()"
   ]
  },
  {
   "cell_type": "markdown",
   "metadata": {},
   "source": [
    "Algumas operações básicas: display, value, close."
   ]
  },
  {
   "cell_type": "code",
   "execution_count": 4,
   "metadata": {},
   "outputs": [],
   "source": [
    "# definindo o widget\n",
    "wid_int = widgets.IntSlider()"
   ]
  },
  {
   "cell_type": "code",
   "execution_count": 5,
   "metadata": {},
   "outputs": [
    {
     "data": {
      "application/vnd.jupyter.widget-view+json": {
       "model_id": "",
       "version_major": 2,
       "version_minor": 0
      },
      "text/plain": [
       "IntSlider(value=0)"
      ]
     },
     "metadata": {},
     "output_type": "display_data"
    }
   ],
   "source": [
    "# mostrando o widget\n",
    "display(wid_int)"
   ]
  },
  {
   "cell_type": "code",
   "execution_count": 7,
   "metadata": {},
   "outputs": [
    {
     "data": {
      "text/plain": [
       "63"
      ]
     },
     "execution_count": 7,
     "metadata": {},
     "output_type": "execute_result"
    }
   ],
   "source": [
    "# pegando o valor atual\n",
    "wid_int.value"
   ]
  },
  {
   "cell_type": "code",
   "execution_count": 8,
   "metadata": {},
   "outputs": [],
   "source": [
    "# fechando o widget\n",
    "wid_int.close()"
   ]
  },
  {
   "cell_type": "markdown",
   "metadata": {},
   "source": [
    "# 3. Definindo diferentes tipos de widgets"
   ]
  },
  {
   "cell_type": "markdown",
   "metadata": {},
   "source": [
    "## Widgets númericos"
   ]
  },
  {
   "cell_type": "code",
   "execution_count": 9,
   "metadata": {},
   "outputs": [
    {
     "data": {
      "application/vnd.jupyter.widget-view+json": {
       "model_id": "8070337004524db58db5978e21217e59",
       "version_major": 2,
       "version_minor": 0
      },
      "text/plain": [
       "IntSlider(value=5, description='Valor inteiro:', max=10)"
      ]
     },
     "metadata": {},
     "output_type": "display_data"
    }
   ],
   "source": [
    "# IntSlider\n",
    "widgets.IntSlider(\n",
    "    value=5,\n",
    "    min=0,\n",
    "    max=10,\n",
    "    step=1,\n",
    "    description='Valor inteiro:',\n",
    ")"
   ]
  },
  {
   "cell_type": "code",
   "execution_count": 10,
   "metadata": {},
   "outputs": [
    {
     "data": {
      "application/vnd.jupyter.widget-view+json": {
       "model_id": "6213e65d4f5840709bc3582c0d1dfb9b",
       "version_major": 2,
       "version_minor": 0
      },
      "text/plain": [
       "FloatSlider(value=5.5, description='Float:', max=10.0)"
      ]
     },
     "metadata": {},
     "output_type": "display_data"
    }
   ],
   "source": [
    "# FloatSlider\n",
    "widgets.FloatSlider(\n",
    "    value=5.5,\n",
    "    min=0,\n",
    "    max=10.0,\n",
    "    step=0.1,\n",
    "    description='Float:'\n",
    ")"
   ]
  },
  {
   "cell_type": "code",
   "execution_count": 11,
   "metadata": {},
   "outputs": [
    {
     "data": {
      "application/vnd.jupyter.widget-view+json": {
       "model_id": "45bd15e307be4c2bae51afdafbd8b4cc",
       "version_major": 2,
       "version_minor": 0
      },
      "text/plain": [
       "IntRangeSlider(value=(2, 8), description='Range:', max=10)"
      ]
     },
     "metadata": {},
     "output_type": "display_data"
    }
   ],
   "source": [
    "# IntRangeSlider\n",
    "widgets.IntRangeSlider(\n",
    "    value=[2, 8],\n",
    "    min=0,\n",
    "    max=10,\n",
    "    step=1,\n",
    "    description='Range:',\n",
    ")"
   ]
  },
  {
   "cell_type": "code",
   "execution_count": 13,
   "metadata": {},
   "outputs": [
    {
     "data": {
      "application/vnd.jupyter.widget-view+json": {
       "model_id": "65b71af6b53047b68c2bed73e18bd487",
       "version_major": 2,
       "version_minor": 0
      },
      "text/plain": [
       "IntText(value=3, description='Idade:')"
      ]
     },
     "metadata": {},
     "output_type": "display_data"
    }
   ],
   "source": [
    "# IntText\n",
    "wid_text = widgets.IntText(\n",
    "    value=3,\n",
    "    description='Idade:'\n",
    ")\n",
    "\n",
    "display(wid_text)"
   ]
  },
  {
   "cell_type": "code",
   "execution_count": 15,
   "metadata": {},
   "outputs": [
    {
     "data": {
      "text/plain": [
       "25"
      ]
     },
     "execution_count": 15,
     "metadata": {},
     "output_type": "execute_result"
    }
   ],
   "source": [
    "wid_text.value"
   ]
  },
  {
   "cell_type": "code",
   "execution_count": 17,
   "metadata": {},
   "outputs": [
    {
     "data": {
      "application/vnd.jupyter.widget-view+json": {
       "model_id": "67c81da1af22469c90f61174c6a0f4fc",
       "version_major": 2,
       "version_minor": 0
      },
      "text/plain": [
       "IntProgress(value=3, description='Loading:', max=10)"
      ]
     },
     "metadata": {},
     "output_type": "display_data"
    }
   ],
   "source": [
    "# IntProgress\n",
    "wid_progress = widgets.IntProgress(\n",
    "    value=3,\n",
    "    min=0,\n",
    "    max=10,\n",
    "    step=1,\n",
    "    description='Loading:',\n",
    "    bar_style='', # 'success', 'info', 'warning', 'danger' or ''\n",
    "    orientation='horizontal'\n",
    ")\n",
    "\n",
    "display(wid_progress)"
   ]
  },
  {
   "cell_type": "code",
   "execution_count": 18,
   "metadata": {},
   "outputs": [],
   "source": [
    "wid_progress.value = 5"
   ]
  },
  {
   "cell_type": "markdown",
   "metadata": {},
   "source": [
    "Vamos fazer um exemplo com widget de progresso!"
   ]
  },
  {
   "cell_type": "code",
   "execution_count": 19,
   "metadata": {},
   "outputs": [],
   "source": [
    "import time"
   ]
  },
  {
   "cell_type": "code",
   "execution_count": 20,
   "metadata": {},
   "outputs": [],
   "source": [
    "max_progress = 100\n",
    "min_progress = 0\n",
    "\n",
    "wid_progress.max = max_progress\n",
    "wid_progress.min = min_progress\n",
    "\n",
    "for i in range(101):\n",
    "    time.sleep(0.03)\n",
    "    wid_progress.value = i"
   ]
  },
  {
   "cell_type": "markdown",
   "metadata": {},
   "source": [
    "## Widgets booleanos"
   ]
  },
  {
   "cell_type": "code",
   "execution_count": 21,
   "metadata": {},
   "outputs": [
    {
     "data": {
      "application/vnd.jupyter.widget-view+json": {
       "model_id": "54a62a5b429643a7b4335db9b4eb3f62",
       "version_major": 2,
       "version_minor": 0
      },
      "text/plain": [
       "ToggleButton(value=False, description='Submeter', icon='check')"
      ]
     },
     "metadata": {},
     "output_type": "display_data"
    }
   ],
   "source": [
    "# ToggleButton\n",
    "widgets.ToggleButton(\n",
    "    description='Submeter',\n",
    "    button_style='', # 'success', 'info', 'warning', 'danger' or ''\n",
    "    icon='check' # (FontAwesome names without the `fa-` prefix)\n",
    ")"
   ]
  },
  {
   "cell_type": "code",
   "execution_count": 22,
   "metadata": {},
   "outputs": [
    {
     "data": {
      "application/vnd.jupyter.widget-view+json": {
       "model_id": "a158c44a886f45ffb4ac8a447e706075",
       "version_major": 2,
       "version_minor": 0
      },
      "text/plain": [
       "Checkbox(value=False, description='Checagem')"
      ]
     },
     "metadata": {},
     "output_type": "display_data"
    }
   ],
   "source": [
    "# Checkbox\n",
    "wid_checkbox = widgets.Checkbox(\n",
    "    description='Checagem'\n",
    ")\n",
    "\n",
    "display(wid_checkbox)"
   ]
  },
  {
   "cell_type": "code",
   "execution_count": 23,
   "metadata": {},
   "outputs": [
    {
     "data": {
      "text/plain": [
       "bool"
      ]
     },
     "execution_count": 23,
     "metadata": {},
     "output_type": "execute_result"
    }
   ],
   "source": [
    "type(wid_checkbox.value)"
   ]
  },
  {
   "cell_type": "code",
   "execution_count": 25,
   "metadata": {},
   "outputs": [
    {
     "data": {
      "text/plain": [
       "True"
      ]
     },
     "execution_count": 25,
     "metadata": {},
     "output_type": "execute_result"
    }
   ],
   "source": [
    "wid_checkbox.value"
   ]
  },
  {
   "cell_type": "markdown",
   "metadata": {},
   "source": [
    "## Widgets de seleção"
   ]
  },
  {
   "cell_type": "code",
   "execution_count": 26,
   "metadata": {},
   "outputs": [
    {
     "data": {
      "application/vnd.jupyter.widget-view+json": {
       "model_id": "5167510620ab4f288fad0c645781c97c",
       "version_major": 2,
       "version_minor": 0
      },
      "text/plain": [
       "Dropdown(description='Número:', index=1, options=('1', '2', '3'), value='2')"
      ]
     },
     "metadata": {},
     "output_type": "display_data"
    }
   ],
   "source": [
    "# Dropdown\n",
    "widgets.Dropdown(\n",
    "    options=['1', '2', '3'],\n",
    "    value='2',\n",
    "    description='Número:'\n",
    ")"
   ]
  },
  {
   "cell_type": "markdown",
   "metadata": {},
   "source": [
    "Também podemos escolher um valor para apresentar e outro como retorno"
   ]
  },
  {
   "cell_type": "code",
   "execution_count": 27,
   "metadata": {},
   "outputs": [
    {
     "data": {
      "application/vnd.jupyter.widget-view+json": {
       "model_id": "925df47559f84052a0a459ae5a40b77a",
       "version_major": 2,
       "version_minor": 0
      },
      "text/plain": [
       "Dropdown(description='Número:', index=1, options=(('Um', 1), ('Dois', 2), ('Três', 3)), value=2)"
      ]
     },
     "metadata": {},
     "output_type": "display_data"
    }
   ],
   "source": [
    "wid_dropdown = widgets.Dropdown(\n",
    "    options=[('Um', 1), ('Dois', 2), ('Três', 3)],\n",
    "    value=2,\n",
    "    description='Número:',\n",
    ")\n",
    "\n",
    "display(wid_dropdown)"
   ]
  },
  {
   "cell_type": "code",
   "execution_count": 28,
   "metadata": {},
   "outputs": [
    {
     "data": {
      "text/plain": [
       "3"
      ]
     },
     "execution_count": 28,
     "metadata": {},
     "output_type": "execute_result"
    }
   ],
   "source": [
    "wid_dropdown.value"
   ]
  },
  {
   "cell_type": "code",
   "execution_count": 29,
   "metadata": {},
   "outputs": [
    {
     "data": {
      "application/vnd.jupyter.widget-view+json": {
       "model_id": "8247766029434f0d8a132a33f727d214",
       "version_major": 2,
       "version_minor": 0
      },
      "text/plain": [
       "RadioButtons(description='Pizza de ', options=('Calabresa', 'Mussarela', 'Pepperoni'), value='Calabresa')"
      ]
     },
     "metadata": {},
     "output_type": "display_data"
    }
   ],
   "source": [
    "# RadioButtons\n",
    "widgets.RadioButtons(\n",
    "    options=['Calabresa', 'Mussarela', 'Pepperoni'],\n",
    "    description='Pizza de ',\n",
    ")"
   ]
  },
  {
   "cell_type": "code",
   "execution_count": 30,
   "metadata": {},
   "outputs": [
    {
     "data": {
      "application/vnd.jupyter.widget-view+json": {
       "model_id": "0641999b1fa64f0a803924f48cfc81ba",
       "version_major": 2,
       "version_minor": 0
      },
      "text/plain": [
       "Select(description='OS:', index=2, options=('Linux', 'Windows', 'OSX'), value='OSX')"
      ]
     },
     "metadata": {},
     "output_type": "display_data"
    }
   ],
   "source": [
    "# Select\n",
    "widgets.Select(\n",
    "    options=['Linux', 'Windows', 'OSX'],\n",
    "    value='OSX',\n",
    "    # rows=10,\n",
    "    description='OS:',\n",
    "    disabled=False\n",
    ")"
   ]
  },
  {
   "cell_type": "code",
   "execution_count": 31,
   "metadata": {},
   "outputs": [
    {
     "data": {
      "application/vnd.jupyter.widget-view+json": {
       "model_id": "d10305e6aa484c3c94a9220466e50d28",
       "version_major": 2,
       "version_minor": 0
      },
      "text/plain": [
       "ToggleButtons(description='Nível:', options=('Básico', 'Inermediário', 'Avançado'), value='Básico')"
      ]
     },
     "metadata": {},
     "output_type": "display_data"
    }
   ],
   "source": [
    "widgets.ToggleButtons(\n",
    "    options=['Básico', 'Inermediário', 'Avançado'],\n",
    "    description='Nível:',\n",
    ")"
   ]
  },
  {
   "cell_type": "markdown",
   "metadata": {},
   "source": [
    "## Widgets de string"
   ]
  },
  {
   "cell_type": "code",
   "execution_count": 33,
   "metadata": {},
   "outputs": [
    {
     "data": {
      "application/vnd.jupyter.widget-view+json": {
       "model_id": "22df63134b4a484f90a46940bd3bdd16",
       "version_major": 2,
       "version_minor": 0
      },
      "text/plain": [
       "Text(value='Hello World', description='String:')"
      ]
     },
     "metadata": {},
     "output_type": "display_data"
    }
   ],
   "source": [
    "# Text\n",
    "wid_text = widgets.Text(\n",
    "    value='Hello World',\n",
    "    description='String:'\n",
    ")\n",
    "\n",
    "display(wid_text)"
   ]
  },
  {
   "cell_type": "code",
   "execution_count": 35,
   "metadata": {},
   "outputs": [
    {
     "data": {
      "text/plain": [
       "'Hello again'"
      ]
     },
     "execution_count": 35,
     "metadata": {},
     "output_type": "execute_result"
    }
   ],
   "source": [
    "wid_text.value"
   ]
  },
  {
   "cell_type": "code",
   "execution_count": 36,
   "metadata": {},
   "outputs": [
    {
     "data": {
      "application/vnd.jupyter.widget-view+json": {
       "model_id": "389afb20070d49bfbf4aa95f2d029775",
       "version_major": 2,
       "version_minor": 0
      },
      "text/plain": [
       "Password(description='Password:', placeholder='Digite password')"
      ]
     },
     "metadata": {},
     "output_type": "display_data"
    }
   ],
   "source": [
    "# Password\n",
    "widgets.Password(\n",
    "    placeholder='Digite password',\n",
    "    description='Password:'\n",
    ")"
   ]
  },
  {
   "cell_type": "code",
   "execution_count": 37,
   "metadata": {},
   "outputs": [
    {
     "data": {
      "application/vnd.jupyter.widget-view+json": {
       "model_id": "f3c40317b1d442f99adea60e7acd7a7e",
       "version_major": 2,
       "version_minor": 0
      },
      "text/plain": [
       "HTML(value='Hello <b>World</b>')"
      ]
     },
     "metadata": {},
     "output_type": "display_data"
    }
   ],
   "source": [
    "widgets.HTML(\n",
    "    value=\"Hello <b>World</b>\"\n",
    ")"
   ]
  },
  {
   "cell_type": "markdown",
   "metadata": {},
   "source": [
    "## Widgets extras"
   ]
  },
  {
   "cell_type": "code",
   "execution_count": 38,
   "metadata": {},
   "outputs": [
    {
     "data": {
      "application/vnd.jupyter.widget-view+json": {
       "model_id": "1d94b71f5d52461aa89a339e5275b881",
       "version_major": 2,
       "version_minor": 0
      },
      "text/plain": [
       "DatePicker(value=None, description='Data')"
      ]
     },
     "metadata": {},
     "output_type": "display_data"
    }
   ],
   "source": [
    "# DatePicker\n",
    "wid_datapicker =  widgets.DatePicker(\n",
    "    description='Data',\n",
    ")\n",
    "\n",
    "display(wid_datapicker)"
   ]
  },
  {
   "cell_type": "code",
   "execution_count": 39,
   "metadata": {},
   "outputs": [
    {
     "data": {
      "text/plain": [
       "datetime.date"
      ]
     },
     "execution_count": 39,
     "metadata": {},
     "output_type": "execute_result"
    }
   ],
   "source": [
    "type(wid_datapicker.value)"
   ]
  },
  {
   "cell_type": "code",
   "execution_count": 40,
   "metadata": {},
   "outputs": [
    {
     "data": {
      "application/vnd.jupyter.widget-view+json": {
       "model_id": "32a6ff52dc3e47faa3e1fdb956aac8d8",
       "version_major": 2,
       "version_minor": 0
      },
      "text/plain": [
       "ColorPicker(value='black', description='Cor')"
      ]
     },
     "metadata": {},
     "output_type": "display_data"
    }
   ],
   "source": [
    "# ColorPicker\n",
    "wid_colorpicker = widgets.ColorPicker(\n",
    "    description='Cor'\n",
    ")\n",
    "\n",
    "display(wid_colorpicker)"
   ]
  },
  {
   "cell_type": "markdown",
   "metadata": {},
   "source": [
    "# 4. Combinando widgets"
   ]
  },
  {
   "cell_type": "markdown",
   "metadata": {},
   "source": [
    "## HBox (Horizontal)"
   ]
  },
  {
   "cell_type": "code",
   "execution_count": 41,
   "metadata": {},
   "outputs": [
    {
     "data": {
      "application/vnd.jupyter.widget-view+json": {
       "model_id": "26d4a78b761b437d8ee7656e7ef4be17",
       "version_major": 2,
       "version_minor": 0
      },
      "text/plain": [
       "HBox(children=(FloatSlider(value=0.0, description='Valor 1:'), FloatSlider(value=0.0, description='Valor 2:'),…"
      ]
     },
     "metadata": {},
     "output_type": "display_data"
    }
   ],
   "source": [
    "wid_floatslider_1 = widgets.FloatSlider(description='Valor 1:')\n",
    "wid_floatslider_2 = widgets.FloatSlider(description='Valor 2:')\n",
    "wid_floatslider_3 = widgets.FloatSlider(description='Valor 3:')\n",
    "\n",
    "wid_hbox = widgets.HBox([wid_floatslider_1, wid_floatslider_2, wid_floatslider_3])\n",
    "display(wid_hbox)"
   ]
  },
  {
   "cell_type": "markdown",
   "metadata": {},
   "source": [
    "## VBox (Vertical)"
   ]
  },
  {
   "cell_type": "code",
   "execution_count": 42,
   "metadata": {},
   "outputs": [
    {
     "data": {
      "application/vnd.jupyter.widget-view+json": {
       "model_id": "0de5cb138ff547dea8dc50d37825d4e5",
       "version_major": 2,
       "version_minor": 0
      },
      "text/plain": [
       "VBox(children=(FloatSlider(value=0.0, description='Valor 1:'), FloatSlider(value=0.0, description='Valor 2:'),…"
      ]
     },
     "metadata": {},
     "output_type": "display_data"
    }
   ],
   "source": [
    "wid_floatslider_1 = widgets.FloatSlider(description='Valor 1:')\n",
    "wid_floatslider_2 = widgets.FloatSlider(description='Valor 2:')\n",
    "wid_floatslider_3 = widgets.FloatSlider(description='Valor 3:')\n",
    "\n",
    "wid_vbox = widgets.VBox([wid_floatslider_1, wid_floatslider_2, wid_floatslider_3])\n",
    "display(wid_vbox)"
   ]
  },
  {
   "cell_type": "code",
   "execution_count": 43,
   "metadata": {},
   "outputs": [
    {
     "data": {
      "application/vnd.jupyter.widget-view+json": {
       "model_id": "b990c3ac00e94e3887baf02b85497985",
       "version_major": 2,
       "version_minor": 0
      },
      "text/plain": [
       "VBox(children=(HBox(children=(FloatSlider(value=38.7, description='Valor 1:'), FloatSlider(value=47.6, descrip…"
      ]
     },
     "metadata": {},
     "output_type": "display_data"
    }
   ],
   "source": [
    "wid_hbox_1 = widgets.HBox([wid_floatslider_1, wid_floatslider_2, wid_floatslider_3])\n",
    "wid_hbox_2 = widgets.HBox([wid_floatslider_1, wid_floatslider_2, wid_floatslider_3])\n",
    "\n",
    "wid_box_aux = widgets.VBox([wid_hbox_1, wid_hbox_2])\n",
    "display(wid_box_aux)"
   ]
  },
  {
   "cell_type": "markdown",
   "metadata": {},
   "source": [
    "## GridBox"
   ]
  },
  {
   "cell_type": "code",
   "execution_count": 44,
   "metadata": {},
   "outputs": [],
   "source": [
    "from ipywidgets import Button, GridBox, Layout, ButtonStyle"
   ]
  },
  {
   "cell_type": "code",
   "execution_count": 47,
   "metadata": {},
   "outputs": [
    {
     "data": {
      "application/vnd.jupyter.widget-view+json": {
       "model_id": "f4403b626c4e4bbb91a5a534016d89b9",
       "version_major": 2,
       "version_minor": 0
      },
      "text/plain": [
       "GridBox(children=(Button(description='Header', layout=Layout(grid_area='header', width='auto'), style=ButtonSt…"
      ]
     },
     "metadata": {},
     "output_type": "display_data"
    }
   ],
   "source": [
    "header = Button(description='Header',\n",
    "                 layout=Layout(width='auto', grid_area='header'),\n",
    "                 style=ButtonStyle(button_color='lightblue'))\n",
    "\n",
    "main = Button(description='Main',\n",
    "                 layout=Layout(width='auto', grid_area='main'),\n",
    "                 style=ButtonStyle(button_color='moccasin'))\n",
    "\n",
    "sidebar = Button(description='Sidebar',\n",
    "                 layout=Layout(width='auto', grid_area='sidebar'),\n",
    "                 style=ButtonStyle(button_color='salmon'))\n",
    "\n",
    "footer = Button(description='Footer',\n",
    "                 layout=Layout(width='auto', grid_area='footer'),\n",
    "                 style=ButtonStyle(button_color='lightgreen'))\n",
    "\n",
    "\n",
    "widgets.GridBox(children=[header, main, sidebar, footer],\n",
    "        layout=Layout(\n",
    "            width='50%',\n",
    "            grid_template_rows='auto auto auto',\n",
    "            grid_template_columns='25% 25% 25% 25%',\n",
    "            grid_template_areas='''\n",
    "            \". header header .\"\n",
    "            \"main main sidebar sidebar \"\n",
    "            \"footer footer footer footer\"\n",
    "            ''')\n",
    "       )"
   ]
  },
  {
   "cell_type": "markdown",
   "metadata": {},
   "source": [
    "# 5. Disparando eventos"
   ]
  },
  {
   "cell_type": "markdown",
   "metadata": {},
   "source": [
    "## on_click"
   ]
  },
  {
   "cell_type": "code",
   "execution_count": 48,
   "metadata": {},
   "outputs": [
    {
     "data": {
      "application/vnd.jupyter.widget-view+json": {
       "model_id": "067c54305bb8458997ee116ef56c109f",
       "version_major": 2,
       "version_minor": 0
      },
      "text/plain": [
       "Button(description='Clique!', style=ButtonStyle())"
      ]
     },
     "metadata": {},
     "output_type": "display_data"
    },
    {
     "data": {
      "application/vnd.jupyter.widget-view+json": {
       "model_id": "898dd64c610c41c586f93fc9003c8d2a",
       "version_major": 2,
       "version_minor": 0
      },
      "text/plain": [
       "Output()"
      ]
     },
     "metadata": {},
     "output_type": "display_data"
    }
   ],
   "source": [
    "# on_click\n",
    "wid_button = widgets.Button(description=\"Clique!\")\n",
    "wid_output = widgets.Output()\n",
    "\n",
    "def on_button_clicked(b):\n",
    "    with wid_output:\n",
    "        print(\"Evento disparado.\")\n",
    "\n",
    "wid_button.on_click(on_button_clicked)\n",
    "\n",
    "display(wid_button, wid_output)"
   ]
  },
  {
   "cell_type": "markdown",
   "metadata": {},
   "source": [
    "## observe"
   ]
  },
  {
   "cell_type": "code",
   "execution_count": 49,
   "metadata": {},
   "outputs": [
    {
     "data": {
      "application/vnd.jupyter.widget-view+json": {
       "model_id": "ed3ad5c9aaa5486b9fa327b366d32ce6",
       "version_major": 2,
       "version_minor": 0
      },
      "text/plain": [
       "IntSlider(value=0)"
      ]
     },
     "metadata": {},
     "output_type": "display_data"
    },
    {
     "data": {
      "application/vnd.jupyter.widget-view+json": {
       "model_id": "5455383a2c55471989de0d6ff948ef9c",
       "version_major": 2,
       "version_minor": 0
      },
      "text/plain": [
       "IntSlider(value=100)"
      ]
     },
     "metadata": {},
     "output_type": "display_data"
    }
   ],
   "source": [
    "# observer\n",
    "wid_intslider_1 = widgets.IntSlider()\n",
    "wid_intslider_2 = widgets.IntSlider()\n",
    "\n",
    "def on_value_change(change):\n",
    "    wid_intslider_2.value = wid_intslider_2.max - change['new']\n",
    "\n",
    "wid_intslider_1.observe(on_value_change, names='value')\n",
    "\n",
    "wid_intslider_2.value = wid_intslider_2.max\n",
    "\n",
    "display(wid_intslider_1, wid_intslider_2)"
   ]
  },
  {
   "cell_type": "markdown",
   "metadata": {},
   "source": [
    "## 6. Construindo uma interface interativa "
   ]
  },
  {
   "cell_type": "code",
   "execution_count": 54,
   "metadata": {},
   "outputs": [
    {
     "data": {
      "application/vnd.jupyter.widget-view+json": {
       "model_id": "b686a7bf0d0b4863af6bd3a988ac9d52",
       "version_major": 2,
       "version_minor": 0
      },
      "text/plain": [
       "GridBox(children=(SelectMultiple(layout=Layout(grid_area='wid_select_add', width='auto'), options=(), value=()…"
      ]
     },
     "metadata": {},
     "output_type": "display_data"
    }
   ],
   "source": [
    "wid_select_add = widgets.SelectMultiple(\n",
    "    layout=Layout(width='auto', grid_area='wid_select_add'))\n",
    "wid_select_remove = widgets.SelectMultiple(\n",
    "    layout=Layout(width='auto', grid_area='wid_select_remove'))\n",
    "\n",
    "wid_button_add = widgets.Button(\n",
    "    button_style='success',\n",
    "    tooltip='Add',\n",
    "    icon='angle-double-right',\n",
    "    layout=Layout(width='auto', grid_area='wid_button_add')\n",
    ")\n",
    "wid_button_remove = widgets.Button(\n",
    "    button_style='danger',\n",
    "    tooltip='Remove',\n",
    "    icon='angle-double-left',\n",
    "    layout=Layout(width='auto', grid_area='wid_button_remove')\n",
    ")\n",
    "\n",
    "widget_gridbox = \\\n",
    "    GridBox(children=[wid_select_add, wid_select_remove, \n",
    "                      wid_button_add, wid_button_remove],\n",
    "            layout=Layout(\n",
    "                width='100%',\n",
    "                grid_template_rows='auto',\n",
    "                grid_template_columns='40% 5% 40%',\n",
    "                grid_gap='5px',\n",
    "                grid_template_areas='''\n",
    "                    \"wid_select_remove wid_button_add wid_select_add\"\n",
    "                    \"wid_select_remove wid_button_remove wid_select_add\"\n",
    "                    '''\n",
    "            )\n",
    "    )\n",
    "\n",
    "def add_button_clicked(button):\n",
    "\n",
    "    if len(wid_select_remove.value) > 0:\n",
    "        \n",
    "        selected_values = list(wid_select_remove.value)\n",
    "        \n",
    "        wid_select_remove.options = [value for value in wid_select_remove.options \n",
    "                                     if value not in wid_select_remove.value]\n",
    "\n",
    "        selected_options = selected_values + list(wid_select_add.options)\n",
    "        wid_select_add.options = selected_options\n",
    "\n",
    "def remove_button_clicked(button):\n",
    "\n",
    "    if len(wid_select_add.value) > 0:\n",
    "        \n",
    "        selected_values = list(wid_select_add.value)\n",
    "        \n",
    "        wid_select_add.options = [value for value in wid_select_add.options \n",
    "                                  if value not in wid_select_add.value]\n",
    "\n",
    "        selected_options = selected_values + list(wid_select_remove.options)\n",
    "        wid_select_remove.options = selected_options\n",
    "\n",
    "wid_button_add.on_click(add_button_clicked)\n",
    "wid_button_remove.on_click(remove_button_clicked)\n",
    "\n",
    "wid_select_remove.options = ['Brasil', 'Argentina', 'Uruguai', 'Estados Unidos', \n",
    "                             'Itália', 'França', 'Portugal']\n",
    "\n",
    "display(widget_gridbox)"
   ]
  },
  {
   "cell_type": "code",
   "execution_count": 59,
   "metadata": {},
   "outputs": [
    {
     "data": {
      "text/plain": [
       "('Argentina', 'Itália', 'França', 'Portugal')"
      ]
     },
     "execution_count": 59,
     "metadata": {},
     "output_type": "execute_result"
    }
   ],
   "source": [
    "wid_select_remove.options"
   ]
  },
  {
   "cell_type": "markdown",
   "metadata": {},
   "source": [
    "# 7. Praticando com dataset\n",
    "\n",
    "1. Escolha um dataset com uma feature (coluna) categórica;  \n",
    "\n",
    "\n",
    "2. Utilizando a interface *widget_gridbox* criada anteriormente, preencha a tela da esquerda com todos os valores únicos da feature escolhida;\n",
    "\n",
    "  **`Dica:`** para pegar os valores únicos, você pode utilizar [pandas.unique()](https://pandas.pydata.org/pandas-docs/stable/reference/api/pandas.unique.html)\n",
    "\n",
    "\n",
    "3. Crie um novo botão e um handle **on_click** para filtar o dataset somente com os valores categóricos adicionados pelo usuário, ou seja, que foram movidos para a tela da direita com a interface *widget_gridbox*;\n",
    "\n",
    "  **`Dica:`** para filtrar um dataframe e manter somente os valores contídos em uma lista, você pode utilizar [pandas.isin()](https://pandas.pydata.org/pandas-docs/stable/reference/api/pandas.DataFrame.isin.html)\n",
    "\n",
    "\n",
    "4. Mostre o dataframe antes e depois de realizar um processo de filtragem."
   ]
  },
  {
   "cell_type": "code",
   "execution_count": 37,
   "metadata": {},
   "outputs": [],
   "source": [
    "## CODIFIQUE AQUI ##"
   ]
  }
 ],
 "metadata": {
  "kernelspec": {
   "display_name": "Python 3",
   "language": "python",
   "name": "python3"
  },
  "language_info": {
   "codemirror_mode": {
    "name": "ipython",
    "version": 3
   },
   "file_extension": ".py",
   "mimetype": "text/x-python",
   "name": "python",
   "nbconvert_exporter": "python",
   "pygments_lexer": "ipython3",
   "version": "3.8.3"
  }
 },
 "nbformat": 4,
 "nbformat_minor": 4
}
